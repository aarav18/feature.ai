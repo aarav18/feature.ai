{
 "cells": [
  {
   "cell_type": "code",
   "execution_count": 1,
   "id": "bab55d06",
   "metadata": {},
   "outputs": [],
   "source": [
    "api_key = \"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\""
   ]
  },
  {
   "cell_type": "code",
   "execution_count": 13,
   "id": "b5f1f17c",
   "metadata": {},
   "outputs": [],
   "source": [
    "from openai import OpenAI\n",
    "\n",
    "client = OpenAI(\n",
    "  base_url=\"https://openrouter.ai/api/v1\",\n",
    "  api_key=api_key,\n",
    ")"
   ]
  },
  {
   "cell_type": "code",
   "execution_count": 45,
   "id": "037e636b",
   "metadata": {},
   "outputs": [
    {
     "name": "stdout",
     "output_type": "stream",
     "text": [
      "Initial model response:\n",
      " [00:01.00] (gutteral growl) Yeah, you thought this flame wouldn’t burn?  \n",
      "[00:03.80] Teeth gnash, fists clash—watch the empire overturn,  \n",
      "[00:07.20] Spit venom, no pardon, every word a scar earned,  \n",
      "[00:10.50] Scream my name, Judas—betrayal’s a slow learn.  \n",
      "\n",
      "[00:14.00] Cracked pavement, blood-rush, I’m the ghost in the static,  \n",
      "[00:17.30] Hell’s choir hums louder when the reckoning’s drastic,  \n",
      "[00:20.60] Cross my heart, hope to die? Nah, bitch, hope you panic,  \n",
      "[00:24.00] (snarl) This crown’s thorns dig deep—*fuck* your plastic.  \n",
      "\n",
      "[00:27.50] (whispered) Tick-tock… the clock eats your lies raw—  \n",
      "[00:30.90] (roar) Now kneel. The end’s got claws.\n"
     ]
    }
   ],
   "source": [
    "initial_prompt = {\n",
    "    \"role\": \"user\",\n",
    "    \"content\": (\n",
    "        \"I am going to give you a song that exists, then an artist. \"\n",
    "        \"I want you to write lyrics for a snippet towards the end of the song \"\n",
    "        \"as if the new artist was singing, mimic their style for the song given, cuss if needed. IMPORTANT: ONLY output Timestamps followed by lyrics in .lrc format, make sure the timstamps start at 1 second and then are spaced appropriately based on estimated verse pronounciation time by syllabal, 30 seconds max\"\n",
    "    )\n",
    "}\n",
    "\n",
    "# Make the first call with just that initial instruction\n",
    "messages = [initial_prompt]\n",
    "response = client.chat.completions.create(\n",
    "    model=\"deepseek/deepseek-r1:free\",\n",
    "    messages=messages\n",
    ")\n",
    "print(\"Initial model response:\\n\", response.choices[0].message.content)\n",
    "\n",
    "# 2) For your next request, create a new messages list that includes:\n",
    "#    - The initial prompt (so the model still \"sees\" those instructions)\n",
    "#    - The new user question (\"Luther by Kendrick Lamar...\")"
   ]
  },
  {
   "cell_type": "code",
   "execution_count": 47,
   "id": "a215c30b",
   "metadata": {},
   "outputs": [
    {
     "name": "stdout",
     "output_type": "stream",
     "text": [
      "Second model response:\n",
      " [00:01.00] Girl, let’s ignite the night, cosmic delight  \n",
      "[00:03.50] Moonwalkin’ rhythms in the neon light  \n",
      "[00:06.20] Whisper my name, let’s set it right  \n",
      "[00:08.90] (Hee-hee!) You’re dynamite, oh!  \n",
      "[00:11.60] Ain’t no stoppin’ this groove tonight  \n",
      "[00:14.30] (Come on!) We’re crashin’ through the speed of light  \n",
      "[00:17.00] (Ow!) Love’s a thriller, hold tight  \n",
      "[00:19.70] Damn, girl, you’re outta sight!  \n",
      "[00:22.40] (Hoo!) That’s what I like!\n"
     ]
    }
   ],
   "source": [
    "messages_second = [\n",
    "    initial_prompt,  # So it remembers the first prompt\n",
    "    {\n",
    "        \"role\": \"user\",\n",
    "        \"content\": \"Thats what I like - Bruno Mars, Michael Jackson\"\n",
    "    }\n",
    "]\n",
    "\n",
    "response2 = client.chat.completions.create(\n",
    "    model=\"deepseek/deepseek-r1:free\",\n",
    "    messages=messages_second\n",
    ")\n",
    "print(\"Second model response:\\n\", response2.choices[0].message.content)"
   ]
  },
  {
   "cell_type": "code",
   "execution_count": 42,
   "id": "7bad7b69",
   "metadata": {},
   "outputs": [
    {
     "name": "stdout",
     "output_type": "stream",
     "text": [
      "Second model response:\n",
      " **Artist: Billie Eilish**  \n",
      "```\n",
      "[00:01.00]Take me down that dead-end road, where the stars don’t shine,  \n",
      "[00:04.50]We’ll dance with the demons, fuck being mild,  \n",
      "[00:08.00]Every heartbeat’s a loaded gun, time’s a liar,  \n",
      "[00:11.50]In your arms, I’m barely alive.  \n",
      "[00:15.00]Paint our sins in neon despair,  \n",
      "[00:18.50]Hold me close ‘til the world disappears,  \n",
      "[00:22.00]Love me like a secret we can’t bear,  \n",
      "[00:25.50]In the glow of the sirens, let the shadows play.  \n",
      "```  \n",
      "\n",
      "---  \n",
      "*Mimics Billie Eilish’s whispery, haunting delivery with dark, fragmented imagery and subtle rebellion.*\n"
     ]
    }
   ],
   "source": [
    "messages_second = [\n",
    "    initial_prompt,  # So it remembers the first prompt\n",
    "    {\n",
    "        \"role\": \"user\",\n",
    "        \"content\": \"Add timestamps as you think it would be sang for this lyrics, LRC format : [Take me down the boulevard, where the stars collide,We’ll dance in the twilight, reckless and wild,Every heartbeat’s a gamble, time is a thief,But here in your arms, I feel so alive.I’ll paint our dreams with colors of despair,Hold your hand while the world fades away,Love me like it’s a secret we can’t share,In the glow of the night, let the shadows sway.]\"\n",
    "    }\n",
    "]\n",
    "\n",
    "response2 = client.chat.completions.create(\n",
    "    model=\"deepseek/deepseek-r1:free\",\n",
    "    messages=messages_second\n",
    ")\n",
    "print(\"Second model response:\\n\", response2.choices[0].message.content)"
   ]
  },
  {
   "cell_type": "code",
   "execution_count": null,
   "id": "8dd2e3f8",
   "metadata": {},
   "outputs": [],
   "source": []
  }
 ],
 "metadata": {
  "kernelspec": {
   "display_name": "Python 3 (ipykernel)",
   "language": "python",
   "name": "python3"
  },
  "language_info": {
   "codemirror_mode": {
    "name": "ipython",
    "version": 3
   },
   "file_extension": ".py",
   "mimetype": "text/x-python",
   "name": "python",
   "nbconvert_exporter": "python",
   "pygments_lexer": "ipython3",
   "version": "3.10.9"
  }
 },
 "nbformat": 4,
 "nbformat_minor": 5
}
